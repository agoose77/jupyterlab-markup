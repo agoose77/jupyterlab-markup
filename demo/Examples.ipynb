{
  "metadata": {
    "language_info": {
      "codemirror_mode": {
        "name": "javascript"
      },
      "file_extension": ".js",
      "mimetype": "text/javascript",
      "name": "javascript",
      "nbconvert_exporter": "javascript",
      "pygments_lexer": "javascript",
      "version": "es2017"
    },
    "kernelspec": {
      "name": "javascript",
      "display_name": "JavaScript",
      "language": "javascript"
    }
  },
  "nbformat_minor": 4,
  "nbformat": 4,
  "cells": [
    {
      "cell_type": "markdown",
      "source": "# Examples\n\n`jupyterlab-markup` supports: \n\n- the same functions as JupyterLab's default renderer, such as...\n    - [x] task lists like this one\n    - [x] block and inline $LaTeX$ math rendering\n    - [x] anchor labels\n- an opinionated set of built-in extensions\n    - [Definition Lists](#Definition-List)\n    - [Footnotes](#Footnotes)\n    - [MermaidJS Diagrams](#MermaidJS-Diagrams)\n    - [Svgbob Diagrams](#Svgbob-Diagrams)\n- extension by third-party JupyterLab extensions such as\n    - [jupyterlab-myst](https://github.com/executablebooks/jupyterlab-myst)",
      "metadata": {}
    },
    {
      "cell_type": "markdown",
      "source": "## Definition List\n\nTerm 1\n~ Definition 1\n\nTerm 2\n~ Definition 2a\n~ Definition 2b\n\n<details>\n    <summary>Source</summary>\n    Term 1\n    ~ Definition 1\n\n    Term 2\n    ~ Definition 2a\n    ~ Definition 2b\n</details>",
      "metadata": {}
    },
    {
      "cell_type": "markdown",
      "source": "## Footnotes\n\nHere is a footnote reference,[^1] and another.[^longnote]\n\n[^1]: Here is the footnote.\n\n[^longnote]: Here's one with multiple blocks.\n\n    > Subsequent paragraphs are indented to show that they\n    belong to the previous footnote.\n\n<details><summary>Source</summary>\n<pre>\n    Here is a footnote reference,[^1] and another.[^longnote]\n\n    [^1]: Here is the footnote.\n\n    [^longnote]: Here's one with multiple blocks.\n\n        > Subsequent paragraphs are indented to show that they\n        belong to the previous footnote.\n</pre>\n</details>",
      "metadata": {}
    },
    {
      "cell_type": "markdown",
      "source": "## MermaidJS Diagrams\n\n```mermaid\nflowchart LR\n    A[Start] --> B{Is it?}\n    B -->|Yes| C[OK]\n    C --> D[Rethink]\n    D --> B\n    B ---->|No| E[End]\n```\n\n<details><summary>Source</summary><pre>\n    ```mermaid\n    flowchart LR\n        A[Start] --> B{Is it?}\n        B -->|Yes| C[OK]\n        C --> D[Rethink]\n        D --> B\n        B ---->|No| E[End]\n    ```\n</pre></details>",
      "metadata": {}
    },
    {
      "cell_type": "markdown",
      "source": "### Svgbob Diagrams\n\n```svgbob\n       .---.\n      /-o-/--\n   .-/ / /->\n  ( *  \\/\n   '-.  \\\n      \\ /\n       '\n```\n\n<details><summary>Source</summary><pre>\n    ```svgbob\n           .---.\n          /-o-/--\n       .-/ / /->\n      ( *  \\/\n       '-.  \\\n          \\ /\n           '\n    ```\n</pre></details>",
      "metadata": {}
    }
  ]
}
