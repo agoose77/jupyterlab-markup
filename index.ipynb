{
 "cells": [
  {
   "cell_type": "markdown",
   "metadata": {},
   "source": [
    "# `jupyterlab-markup` Examples"
   ]
  },
  {
   "cell_type": "markdown",
   "metadata": {},
   "source": [
    "## Table of Contents\n",
    "\n",
    "| plugin...                  | provides...                             |\n",
    "|----------------------------|-----------------------------------------|\n",
    "| `markdown-it-anchor`       | header anchors                          |\n",
    "| `markdown-it-diagrams`     | [diagrams](#Diagrams)                   |\n",
    "| `markdown-it-deflist`      | [definition lists](#Definition-Lists)   |\n",
    "| `markdown-it-footnote`     | [footnotes](#Footnotes)                 |\n",
    "| `markdown-it-task-lists`   | [task lists](#Task-Lists)               |\n",
    "| `markdown-it-dollarmath`   | [dollar math](#Dollar-Math)             |"
   ]
  },
  {
   "cell_type": "markdown",
   "metadata": {},
   "source": [
    "## Note\n",
    "> These examples will [probably only work](./README.md#Limitations) with this labextension installed. Try it on\n",
    "> [![Binder](https://mybinder.org/badge_logo.svg)](https://mybinder.org/v2/gh/agoose77/jupyterlab-markup/master?urlpath=lab%2Ftree%2Findex.ipynb)!\n",
    "\n",
    "> \n",
    "```bash\n",
    "jupyter labextension install @agoose77/jupyterlab-markup\n",
    "```\n",
    "\n",
    "> `svgbob` will probably only work on the latest python 3.7 (or later) without the serverextension.\n",
    "\n",
    "```bash\n",
    "pip install jupyterlab_markup    # and maybe\n",
    "jupyter serverextension enable --sys-prefix jupyterlab_markup\n",
    "```"
   ]
  },
  {
   "cell_type": "markdown",
   "metadata": {},
   "source": [
    "## Definition Lists\n",
    "\n",
    "\n",
    "Term 1\n",
    "  ~ Definition 1\n",
    "\n",
    "Term 2\n",
    "  ~ Definition 2a\n",
    "  ~ Definition 2b"
   ]
  },
  {
   "cell_type": "markdown",
   "metadata": {},
   "source": [
    "## Diagrams"
   ]
  },
  {
   "cell_type": "markdown",
   "metadata": {},
   "source": [
    "### Mermaid"
   ]
  },
  {
   "cell_type": "markdown",
   "metadata": {},
   "source": [
    "```mermaid \n",
    "graph TD;\n",
    "    A-->B;\n",
    "    A-->C;\n",
    "    B-->D;\n",
    "    C-->D;\n",
    "```"
   ]
  },
  {
   "cell_type": "markdown",
   "metadata": {},
   "source": [
    "### svgbob"
   ]
  },
  {
   "cell_type": "markdown",
   "metadata": {},
   "source": [
    "```svgbob \n",
    "     .---.\n",
    "    /-o-/--\n",
    " .-/ / /->\n",
    "( *  \\/\n",
    " '-.  \\\n",
    "    \\ /\n",
    "     '\n",
    "```"
   ]
  },
  {
   "cell_type": "markdown",
   "metadata": {},
   "source": [
    "## Footnotes"
   ]
  },
  {
   "cell_type": "markdown",
   "metadata": {},
   "source": [
    "Here is a footnote reference,[^1] and another.[^longnote]\n",
    "\n",
    "[^1]: Here is the footnote.\n",
    "\n",
    "[^longnote]: Here's one with multiple blocks.\n",
    "\n",
    "    Subsequent paragraphs are indented to show that they\n",
    "belong to the previous footnote."
   ]
  },
  {
   "cell_type": "markdown",
   "metadata": {},
   "source": [
    "## Task Lists\n",
    "\n",
    "- [x] done\n",
    "- [ ] not done\n",
    "- [ ] ~~not gonna do it~~"
   ]
  },
  {
   "cell_type": "markdown",
   "metadata": {},
   "source": [
    "## Rich Display"
   ]
  },
  {
   "cell_type": "code",
   "execution_count": 9,
   "metadata": {},
   "outputs": [
    {
     "data": {
      "text/markdown": [
       "\n",
       "### It works!\n",
       "---\n",
       "```mermaid\n",
       "graph LR; A-->B; A-->C; B-->D; C-->D;\n",
       "```\n"
      ]
     },
     "metadata": {},
     "output_type": "display_data"
    }
   ],
   "source": [
    "display({\"text/markdown\": \"\"\"\n",
    "### It works!\n",
    "---\n",
    "```mermaid\n",
    "graph LR; A-->B; A-->C; B-->D; C-->D;\n",
    "```\n",
    "\"\"\"}, raw=True)"
   ]
  },
  {
   "cell_type": "markdown",
   "metadata": {
    "tags": []
   },
   "source": [
    "## Dollar Math\n",
    "    \n",
    "This is some _inline_ math: $x + y$. This is some _inline display_ math:\n",
    "$$x + y = z$$\n",
    "\n",
    "This is some _display_ math:\n",
    "\n",
    "$$x + y = z$$"
   ]
  }
 ],
 "metadata": {
  "kernelspec": {
   "display_name": "Python 3 (ipykernel)",
   "language": "python",
   "name": "python3"
  },
  "language_info": {
   "codemirror_mode": {
    "name": "ipython",
    "version": 3
   },
   "file_extension": ".py",
   "mimetype": "text/x-python",
   "name": "python",
   "nbconvert_exporter": "python",
   "pygments_lexer": "ipython3",
   "version": "3.10.5"
  },
  "toc-autonumbering": true,
  "toc-showcode": false,
  "toc-showmarkdowntxt": true,
  "toc-showtags": false
 },
 "nbformat": 4,
 "nbformat_minor": 4
}
